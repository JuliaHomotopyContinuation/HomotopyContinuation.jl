{
 "cells": [
  {
   "cell_type": "code",
   "execution_count": 42,
   "metadata": {
    "collapsed": false
   },
   "outputs": [],
   "source": [
    "using HomotopyContinuation\n",
    "using TypedPolynomials"
   ]
  },
  {
   "cell_type": "markdown",
   "metadata": {},
   "source": [
    "# Triangle"
   ]
  },
  {
   "cell_type": "markdown",
   "metadata": {},
   "source": [
    "This example is from [The Numerical Solution of Systems of Polynomials Arising in Engineering and Science](http://www.worldscientific.com/worldscibooks/10.1142/5763) Chapter 7.3."
   ]
  },
  {
   "cell_type": "markdown",
   "metadata": {},
   "source": [
    "We consider the classical problem of solving for the angeles of a triangle given the lengths of it sides,\n",
    "$a$, $b$, $c$. Let $\\theta$ be the angle opposite side $c$.\n",
    "We will write a system of polynomials in two variables $c_{\\theta} = cos\\theta$ and $s_\\theta = sin\\theta$.\n",
    "\n",
    "The triangle has the three vertices $(0,0)$, $(b,0)$ and $(ac_\\theta, as_\\theta)$ and the system to solve is\n",
    "\n",
    "$$f(c_\\theta, s_\\theta;a,b,c) = \\begin{pmatrix}f_1 \\\\ f_2\\end{pmatrix}\n",
    "= \\begin{pmatrix}\n",
    "c_\\theta^2+s_\\theta^2-1 \\\\\n",
    "(ac_\\theta-b)^2+(as_\\theta)^2-c^2\n",
    "\\end{pmatrix}\n",
    "= \\begin{pmatrix} 0 \\\\ 0 \\end{pmatrix}\n",
    "\\;.$$"
   ]
  },
  {
   "cell_type": "markdown",
   "metadata": {},
   "source": [
    "Now let's solve this numerically"
   ]
  },
  {
   "cell_type": "code",
   "execution_count": 41,
   "metadata": {
    "collapsed": false
   },
   "outputs": [
    {
     "name": "stdout",
     "output_type": "stream",
     "text": [
      "Total number of paths to track: 4\n",
      "Start to track path 1\n",
      "Path 1 returned: Success\n",
      "Start to track path 2\n",
      "Path 2 returned: AtInfinity\n",
      "Start to track path 3\n",
      "Path 3 returned: Success\n",
      "Start to track path 4\n",
      "Path 4 returned: AtInfinity\n",
      "\n",
      "Solutions:\n",
      "(1) Complex{Float64}[0.8-9.03244e-13im, 0.6-1.55939e-11im]\n",
      "(2) Complex{Float64}[0.8-9.03271e-13im, -0.6+1.55939e-11im]\n"
     ]
    }
   ],
   "source": [
    "# lets fix side lengths\n",
    "a = 5\n",
    "b = 4\n",
    "c = 3;\n",
    "\n",
    "#create the variables\n",
    "@polyvar sθ cθ x0\n",
    "# now construct the system\n",
    "# In the future we will be able to avoid to explicitly write complex coefficients\n",
    "f1 = cθ^2 + sθ^2 - (1.0 + 0im)\n",
    "f2 = (a*cθ - b)^2 + (1.0 + 0im) * (a*sθ)^2 - c^2\n",
    "F = [f1, f2]\n",
    "\n",
    "# lets use a total degree homotopy\n",
    "G, start_solutions = total_degree(F)\n",
    "\n",
    "# we will use a simple straight line homotopy\n",
    "H = StraightLineHomotopy(G, F)\n",
    "\n",
    "#now we can solve\n",
    "results = solve(H, start_solutions, PredictorCorrector.Spherical(x0))\n",
    "\n",
    "#lets ignore the solutions at infinity\n",
    "solutions = map(x -> x.solution, filter(x -> x.retcode == :Success, results))\n",
    "\n",
    "# Now lets print the solutions\n",
    "println(\"\\nSolutions:\")\n",
    "for (i, sol) in enumerate(solutions)\n",
    "    println(\"($i) $sol\")\n",
    "end"
   ]
  },
  {
   "cell_type": "markdown",
   "metadata": {},
   "source": [
    "We get two solutions at $(\\frac45, \\pm\\frac35)$ which result in $\\theta\\approx36.87$ degree."
   ]
  }
 ],
 "metadata": {
  "anaconda-cloud": {},
  "kernelspec": {
   "display_name": "Julia 0.6.0",
   "language": "julia",
   "name": "julia-0.6"
  },
  "language_info": {
   "file_extension": ".jl",
   "mimetype": "application/julia",
   "name": "julia",
   "version": "0.6.0"
  }
 },
 "nbformat": 4,
 "nbformat_minor": 1
}
